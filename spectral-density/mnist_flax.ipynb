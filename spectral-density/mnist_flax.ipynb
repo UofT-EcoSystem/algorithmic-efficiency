{
 "cells": [
  {
   "cell_type": "code",
   "execution_count": 1,
   "id": "27d0fbaf",
   "metadata": {},
   "outputs": [
    {
     "name": "stderr",
     "output_type": "stream",
     "text": [
      "2022-03-25 17:15:04.515292: W tensorflow/stream_executor/platform/default/dso_loader.cc:64] Could not load dynamic library 'libcudart.so.11.0'; dlerror: libcudart.so.11.0: cannot open shared object file: No such file or directory\n",
      "/home/adamo/miniconda3/envs/2541/lib/python3.8/site-packages/tqdm/auto.py:22: TqdmWarning: IProgress not found. Please update jupyter and ipywidgets. See https://ipywidgets.readthedocs.io/en/stable/user_install.html\n",
      "  from .autonotebook import tqdm as notebook_tqdm\n"
     ]
    }
   ],
   "source": [
    "import jax\n",
    "import jax.numpy as jnp\n",
    "from flax import linen as nn\n",
    "from flax.training import train_state\n",
    "import numpy as np\n",
    "import optax\n",
    "import tensorflow_datasets as tfds\n",
    "from typing import Any, Callable, Sequence, Optional"
   ]
  },
  {
   "cell_type": "code",
   "execution_count": 2,
   "id": "d0230fc3",
   "metadata": {},
   "outputs": [],
   "source": [
    "class MLP(nn.Module):\n",
    "    features: Sequence[int]\n",
    "#     features = (1000,1000,10)\n",
    "    \n",
    "    def setup(self):\n",
    "        dense_layers, activations = [], []\n",
    "        for layer_idx, feats in enumerate(self.features):\n",
    "            dense_layers.append(nn.Dense(feats))\n",
    "            activations.append(nn.relu)\n",
    "        activations[-1] = nn.log_softmax\n",
    "        self.dense_layers = dense_layers\n",
    "        self.activations = activations\n",
    "    \n",
    "    def __call__(self,x):\n",
    "        for layer_idx, layer in enumerate(self.dense_layers):\n",
    "            x = layer(x)\n",
    "            x = self.activations[layer_idx](x)\n",
    "        return x\n",
    "mlp = MLP(features=(1024,1024,10))"
   ]
  },
  {
   "cell_type": "code",
   "execution_count": 3,
   "id": "742a7302",
   "metadata": {},
   "outputs": [],
   "source": [
    "def cross_entropy_loss(*, logits, labels):\n",
    "  one_hot_labels = jax.nn.one_hot(labels, num_classes=10)\n",
    "  return -jnp.mean(jnp.sum(one_hot_labels * logits, axis=-1))"
   ]
  },
  {
   "cell_type": "code",
   "execution_count": 4,
   "id": "4c945b39",
   "metadata": {},
   "outputs": [],
   "source": [
    "def compute_metrics(*, logits, labels):\n",
    "  loss = cross_entropy_loss(logits=logits, labels=labels)\n",
    "  accuracy = jnp.mean(jnp.argmax(logits, -1) == labels)\n",
    "  metrics = {\n",
    "      'loss': loss,\n",
    "      'accuracy': accuracy,\n",
    "  }\n",
    "  return metrics"
   ]
  },
  {
   "cell_type": "code",
   "execution_count": 5,
   "id": "bc14a992",
   "metadata": {},
   "outputs": [],
   "source": [
    "def get_datasets():\n",
    "  \"\"\"Load MNIST train and test datasets into memory.\"\"\"\n",
    "  ds_builder = tfds.builder('mnist')\n",
    "  ds_builder.download_and_prepare()\n",
    "  train_ds = tfds.as_numpy(ds_builder.as_dataset(split='train', batch_size=-1))\n",
    "  test_ds = tfds.as_numpy(ds_builder.as_dataset(split='test', batch_size=-1))\n",
    "  train_ds['image'] = jnp.float32(train_ds['image']) / 255.\n",
    "  test_ds['image'] = jnp.float32(test_ds['image']) / 255.\n",
    "  return train_ds, test_ds"
   ]
  },
  {
   "cell_type": "code",
   "execution_count": 6,
   "id": "04c7be6d",
   "metadata": {},
   "outputs": [],
   "source": [
    "def create_train_state(rng, learning_rate, momentum):\n",
    "  \"\"\"Creates initial `TrainState`.\"\"\"\n",
    "  params = mlp.init(rng, jnp.ones([1, 28*28*1]))['params']\n",
    "  tx = optax.sgd(learning_rate, momentum)\n",
    "  return train_state.TrainState.create(\n",
    "      apply_fn=mlp.apply, params=params, tx=tx)"
   ]
  },
  {
   "cell_type": "code",
   "execution_count": 7,
   "id": "c3ab9a47",
   "metadata": {},
   "outputs": [],
   "source": [
    "@jax.jit\n",
    "def train_step(state, batch):\n",
    "  \"\"\"Train for a single step.\"\"\"\n",
    "  def loss_fn(params):\n",
    "    logits = mlp.apply({'params': params}, batch['image'])\n",
    "    loss = cross_entropy_loss(logits=logits, labels=batch['label'])\n",
    "    return loss, logits\n",
    "  grad_fn = jax.value_and_grad(loss_fn, has_aux=True)\n",
    "  (_, logits), grads = grad_fn(state.params)\n",
    "  state = state.apply_gradients(grads=grads)\n",
    "  metrics = compute_metrics(logits=logits, labels=batch['label'])\n",
    "  return state, metrics"
   ]
  },
  {
   "cell_type": "code",
   "execution_count": 8,
   "id": "2ef2a512",
   "metadata": {},
   "outputs": [],
   "source": [
    "@jax.jit\n",
    "def eval_step(params, batch):\n",
    "  logits = mlp.apply({'params': params}, batch['image'])\n",
    "  return compute_metrics(logits=logits, labels=batch['label'])"
   ]
  },
  {
   "cell_type": "code",
   "execution_count": 9,
   "id": "3679e55d",
   "metadata": {},
   "outputs": [],
   "source": [
    "def train_epoch(state, train_ds, batch_size, epoch, rng):\n",
    "  \"\"\"Train for a single epoch.\"\"\"\n",
    "  train_ds_size = len(train_ds['image'])\n",
    "  steps_per_epoch = train_ds_size // batch_size\n",
    "\n",
    "  perms = jax.random.permutation(rng, train_ds_size)\n",
    "  perms = perms[:steps_per_epoch * batch_size]  # skip incomplete batch\n",
    "  perms = perms.reshape((steps_per_epoch, batch_size))\n",
    "  batch_metrics = []\n",
    "  for perm in perms:\n",
    "    batch = {k: v[perm, ...] for k, v in train_ds.items()}\n",
    "    state, metrics = train_step(state, batch)\n",
    "    batch_metrics.append(metrics)\n",
    "\n",
    "  # compute mean of metrics across each batch in epoch.\n",
    "  batch_metrics_np = jax.device_get(batch_metrics)\n",
    "  epoch_metrics_np = {\n",
    "      k: np.mean([metrics[k] for metrics in batch_metrics_np])\n",
    "      for k in batch_metrics_np[0]}\n",
    "\n",
    "  print('train epoch: %d, loss: %.4f, accuracy: %.2f' % (\n",
    "      epoch, epoch_metrics_np['loss'], epoch_metrics_np['accuracy'] * 100))\n",
    "\n",
    "  return state"
   ]
  },
  {
   "cell_type": "code",
   "execution_count": 10,
   "id": "80f85602",
   "metadata": {},
   "outputs": [],
   "source": [
    "def eval_model(params, test_ds):\n",
    "  metrics = eval_step(params, test_ds)\n",
    "  metrics = jax.device_get(metrics)\n",
    "  summary = jax.tree_map(lambda x: x.item(), metrics)\n",
    "  return summary['loss'], summary['accuracy']"
   ]
  },
  {
   "cell_type": "code",
   "execution_count": 11,
   "id": "42fd3f04",
   "metadata": {},
   "outputs": [
    {
     "name": "stderr",
     "output_type": "stream",
     "text": [
      "2022-03-25 17:15:05.925683: W tensorflow/stream_executor/platform/default/dso_loader.cc:64] Could not load dynamic library 'libcudart.so.11.0'; dlerror: libcudart.so.11.0: cannot open shared object file: No such file or directory\n",
      "2022-03-25 17:15:05.925767: W tensorflow/stream_executor/platform/default/dso_loader.cc:64] Could not load dynamic library 'libcublas.so.11'; dlerror: libcublas.so.11: cannot open shared object file: No such file or directory\n",
      "2022-03-25 17:15:05.925833: W tensorflow/stream_executor/platform/default/dso_loader.cc:64] Could not load dynamic library 'libcublasLt.so.11'; dlerror: libcublasLt.so.11: cannot open shared object file: No such file or directory\n",
      "2022-03-25 17:15:05.925898: W tensorflow/stream_executor/platform/default/dso_loader.cc:64] Could not load dynamic library 'libcufft.so.10'; dlerror: libcufft.so.10: cannot open shared object file: No such file or directory\n",
      "2022-03-25 17:15:05.925961: W tensorflow/stream_executor/platform/default/dso_loader.cc:64] Could not load dynamic library 'libcurand.so.10'; dlerror: libcurand.so.10: cannot open shared object file: No such file or directory\n",
      "2022-03-25 17:15:05.926024: W tensorflow/stream_executor/platform/default/dso_loader.cc:64] Could not load dynamic library 'libcusolver.so.11'; dlerror: libcusolver.so.11: cannot open shared object file: No such file or directory\n",
      "2022-03-25 17:15:05.926087: W tensorflow/stream_executor/platform/default/dso_loader.cc:64] Could not load dynamic library 'libcusparse.so.11'; dlerror: libcusparse.so.11: cannot open shared object file: No such file or directory\n",
      "2022-03-25 17:15:05.926151: W tensorflow/stream_executor/platform/default/dso_loader.cc:64] Could not load dynamic library 'libcudnn.so.8'; dlerror: libcudnn.so.8: cannot open shared object file: No such file or directory\n",
      "2022-03-25 17:15:05.926162: W tensorflow/core/common_runtime/gpu/gpu_device.cc:1850] Cannot dlopen some GPU libraries. Please make sure the missing libraries mentioned above are installed properly if you would like to use GPU. Follow the guide at https://www.tensorflow.org/install/gpu for how to download and setup the required libraries for your platform.\n",
      "Skipping registering GPU devices...\n",
      "WARNING:absl:No GPU/TPU found, falling back to CPU. (Set TF_CPP_MIN_LOG_LEVEL=0 and rerun for more info.)\n"
     ]
    }
   ],
   "source": [
    "train_ds, test_ds = get_datasets()\n",
    "train_ds[\"image\"] = train_ds[\"image\"].reshape(-1,28*28*1)\n",
    "test_ds[\"image\"] = test_ds[\"image\"].reshape(-1,28*28*1)"
   ]
  },
  {
   "cell_type": "code",
   "execution_count": 12,
   "id": "8b508757",
   "metadata": {},
   "outputs": [],
   "source": [
    "rng = jax.random.PRNGKey(0)\n",
    "rng, init_rng = jax.random.split(rng)"
   ]
  },
  {
   "cell_type": "code",
   "execution_count": 13,
   "id": "807b25ec",
   "metadata": {},
   "outputs": [],
   "source": [
    "learning_rate = 0.001\n",
    "momentum = 0.9"
   ]
  },
  {
   "cell_type": "code",
   "execution_count": 14,
   "id": "7434da94",
   "metadata": {},
   "outputs": [],
   "source": [
    "state = create_train_state(init_rng, learning_rate, momentum)\n",
    "del init_rng  # Must not be used anymore."
   ]
  },
  {
   "cell_type": "code",
   "execution_count": 15,
   "id": "d3f31f9f",
   "metadata": {},
   "outputs": [],
   "source": [
    "num_epochs = 3\n",
    "batch_size = 128"
   ]
  },
  {
   "cell_type": "code",
   "execution_count": 16,
   "id": "8398a182",
   "metadata": {},
   "outputs": [
    {
     "name": "stdout",
     "output_type": "stream",
     "text": [
      "train epoch: 1, loss: 1.2328, accuracy: 73.69\n",
      " test epoch: 1, loss: 0.58, accuracy: 86.45\n",
      "train epoch: 2, loss: 0.4800, accuracy: 87.74\n",
      " test epoch: 2, loss: 0.39, accuracy: 89.69\n",
      "train epoch: 3, loss: 0.3717, accuracy: 89.80\n",
      " test epoch: 3, loss: 0.33, accuracy: 90.96\n"
     ]
    }
   ],
   "source": [
    "for epoch in range(1, num_epochs + 1):\n",
    "  # Use a separate PRNG key to permute image data during shuffling\n",
    "  rng, input_rng = jax.random.split(rng)\n",
    "  # Run an optimization step over a training batch\n",
    "  state = train_epoch(state, train_ds, batch_size, epoch, input_rng)\n",
    "  # Evaluate on the test set after each training epoch\n",
    "  test_loss, test_accuracy = eval_model(state.params, test_ds)\n",
    "  print(' test epoch: %d, loss: %.2f, accuracy: %.2f' % (\n",
    "      epoch, test_loss, test_accuracy * 100))"
   ]
  },
  {
   "cell_type": "markdown",
   "id": "bb16f478",
   "metadata": {},
   "source": [
    "# Spectrum Computation"
   ]
  },
  {
   "cell_type": "code",
   "execution_count": 17,
   "id": "dd3e84f8",
   "metadata": {},
   "outputs": [],
   "source": [
    "import matplotlib.pyplot as plt\n",
    "import time\n",
    "import density as density_lib\n",
    "import lanczos as lanczos\n",
    "import hessian_computation as hessian_computation"
   ]
  },
  {
   "cell_type": "code",
   "execution_count": 32,
   "id": "812d662c",
   "metadata": {},
   "outputs": [],
   "source": [
    "# make a generator that yields 1/10th and epoch\n",
    "num_batches = train_ds[\"image\"].shape[0] // batch_size\n",
    "if train_ds[\"image\"].shape[0] % batch_size != 0:\n",
    "    num_batches += 1\n",
    "\n",
    "batches_list = []\n",
    "for i in range(num_batches // 3):\n",
    "    low = i*batch_size\n",
    "    high = (i+1)*batch_size\n",
    "    batches_list.append((train_ds[\"image\"][low:high],train_ds[\"label\"][low:high]))\n",
    "\n",
    "def batches_fn():\n",
    "    for b in batches_list:\n",
    "        yield b\n",
    "        \n",
    "# print(batch_size,num_batches)\n",
    "# print(len(batches_list))\n",
    "# print([(b[0].shape,b[1].shape) for b in batches_list])"
   ]
  },
  {
   "cell_type": "code",
   "execution_count": 19,
   "id": "0b91f6dc",
   "metadata": {},
   "outputs": [],
   "source": [
    "def spec_predict(params,inputs):\n",
    "    return mlp.apply({'params': params},inputs)\n",
    "\n",
    "def spec_loss(params, batch):\n",
    "    inputs, targets = batch\n",
    "    preds = spec_predict(params, inputs)\n",
    "    return cross_entropy_loss(logits=preds, labels=targets)    "
   ]
  },
  {
   "cell_type": "code",
   "execution_count": 20,
   "id": "fdd73b23",
   "metadata": {},
   "outputs": [],
   "source": [
    "# Hessian-vector product function + Lanczos \n",
    "order = 90\n",
    "hvp, unravel, num_params = hessian_computation.get_hvp_fn(spec_loss, state.params, batches_fn)\n",
    "hvp_cl = lambda v: hvp(state.params, v) / len(batches_list) # Match the API required by lanczos_alg"
   ]
  },
  {
   "cell_type": "code",
   "execution_count": 21,
   "id": "9788aa50",
   "metadata": {},
   "outputs": [
    {
     "name": "stdout",
     "output_type": "stream",
     "text": [
      "num_params: 1863690\n",
      "hvp compile time: 1.2102618217468262\n",
      "hvp compute time: 0.6839523315429688\n"
     ]
    }
   ],
   "source": [
    "print(\"num_params: {}\".format(num_params))\n",
    "start = time.time()\n",
    "hvp_cl(np.ones(num_params)) # first call of a jitted function compiles it\n",
    "end = time.time()\n",
    "print(\"hvp compile time: {}\".format(end-start))\n",
    "start = time.time()\n",
    "hvp_cl(2*np.ones(num_params)) # second+ call will be much faster\n",
    "end = time.time()\n",
    "print(\"hvp compute time: {}\".format(end-start))"
   ]
  },
  {
   "cell_type": "code",
   "execution_count": 23,
   "id": "97c44fd7",
   "metadata": {},
   "outputs": [
    {
     "name": "stdout",
     "output_type": "stream",
     "text": [
      "Lanczos time: 124.70000147819519\n"
     ]
    }
   ],
   "source": [
    "rng, split = jax.random.split(rng)\n",
    "start = time.time()\n",
    "tridiag, vecs = lanczos.lanczos_alg(hvp_cl, num_params, order, split)\n",
    "end = time.time()\n",
    "print(\"Lanczos time: {}\".format(end-start)) # this should be ~order * hvp compute time\n",
    "density, grids = density_lib.tridiag_to_density([tridiag], grid_len=10000, sigma_squared=1e-5)"
   ]
  },
  {
   "cell_type": "code",
   "execution_count": 24,
   "id": "525b88cc",
   "metadata": {},
   "outputs": [],
   "source": [
    "eig_vals, all_weights = density_lib.tridiag_to_eigv([tridiag])"
   ]
  },
  {
   "cell_type": "code",
   "execution_count": null,
   "id": "48a09dbb",
   "metadata": {},
   "outputs": [],
   "source": [
    "def plot(grids, density, label=None):\n",
    "    plt.semilogy(grids, density, label=label)\n",
    "    plt.ylim(1e-10, 1e2)\n",
    "    plt.ylabel(\"Density\")\n",
    "    plt.xlabel(\"Eigenvalue\")\n",
    "    plt.legend()"
   ]
  },
  {
   "cell_type": "code",
   "execution_count": null,
   "id": "047d1330",
   "metadata": {},
   "outputs": [],
   "source": [
    "plot(grids, density) # 30 epochs no BN"
   ]
  },
  {
   "cell_type": "code",
   "execution_count": null,
   "id": "a10c4ae0",
   "metadata": {},
   "outputs": [],
   "source": [
    "assert False"
   ]
  },
  {
   "cell_type": "code",
   "execution_count": null,
   "id": "16311c74",
   "metadata": {},
   "outputs": [],
   "source": [
    "# def silly_func(params,x):\n",
    "#     return params.dot(x)\n",
    "\n",
    "# def jjvp(loss, params, batch, v):\n",
    "#     # note: jax jacobian defaults to 1xn\n",
    "#     loss_fn = lambda _params: loss(_params, batch)\n",
    "#     _jvp = jax.jvp(loss_fn, [params], [v])[1]\n",
    "#     _jjvp = jax.vjp(loss_fn, params)[1](_jvp)[0]\n",
    "#     return _jjvp\n",
    "\n",
    "# num_params = 5\n",
    "# p = jnp.array(np.random.rand(num_params).astype(np.float32))\n",
    "# x = jnp.array(np.random.rand(num_params).astype(np.float32))\n",
    "# v = jnp.array(np.random.rand(num_params).astype(np.float32))\n",
    "\n",
    "# # manual way\n",
    "# jac = jax.jacfwd(silly_func)(p,x).reshape(-1,1)\n",
    "# jjvp_1 = (jac @ jac.T @ v.reshape(-1,1)).reshape(-1)\n",
    "# print(jjvp_1)\n",
    "\n",
    "# # efficient way\n",
    "# jjvp_2 = jjvp(silly_func,p,x,v)\n",
    "# print(jjvp_2)\n"
   ]
  },
  {
   "cell_type": "code",
   "execution_count": 33,
   "id": "0aa1314f",
   "metadata": {},
   "outputs": [],
   "source": [
    "order = 90\n",
    "jjvp_, unravel, num_params = hessian_computation.get_jjvp_fn(spec_loss, state.params, batches_fn)\n",
    "jjvp_cl = lambda v: jjvp_(state.params, v) / len(batches_list) # Match the API required by lanczos_alg"
   ]
  },
  {
   "cell_type": "code",
   "execution_count": 34,
   "id": "c12ce675",
   "metadata": {},
   "outputs": [
    {
     "name": "stdout",
     "output_type": "stream",
     "text": [
      "num_params: 1863690\n",
      "hvp compile time: 1.7927403450012207\n",
      "hvp compute time: 1.367873191833496\n"
     ]
    }
   ],
   "source": [
    "print(\"num_params: {}\".format(num_params))\n",
    "start = time.time()\n",
    "jjvp_cl(np.ones(num_params)) # first call of a jitted function compiles it\n",
    "end = time.time()\n",
    "print(\"hvp compile time: {}\".format(end-start))\n",
    "start = time.time()\n",
    "jjvp_cl(2*np.ones(num_params)) # second+ call will be much faster\n",
    "end = time.time()\n",
    "print(\"hvp compute time: {}\".format(end-start))"
   ]
  },
  {
   "cell_type": "code",
   "execution_count": 40,
   "id": "9853e15a",
   "metadata": {},
   "outputs": [
    {
     "name": "stdout",
     "output_type": "stream",
     "text": [
      "Lanczos time: 185.44447708129883\n"
     ]
    }
   ],
   "source": [
    "rng, split = jax.random.split(rng)\n",
    "start = time.time()\n",
    "tridiag, vecs = lanczos.lanczos_alg(jjvp_cl, num_params, order, split)\n",
    "end = time.time()\n",
    "print(\"Lanczos time: {}\".format(end-start)) # this should be ~order * hvp compute time\n",
    "density, grids = density_lib.tridiag_to_density([tridiag], grid_len=10000, sigma_squared=None) #1e-5)"
   ]
  },
  {
   "cell_type": "code",
   "execution_count": 42,
   "id": "664c8ead",
   "metadata": {},
   "outputs": [],
   "source": [
    "eig_vals, all_weights = density_lib.tridiag_to_eigv([tridiag])"
   ]
  },
  {
   "cell_type": "code",
   "execution_count": 43,
   "id": "73c19917",
   "metadata": {},
   "outputs": [],
   "source": [
    "def plot(grids, density, label=None):\n",
    "    plt.semilogy(grids, density, label=label)\n",
    "    plt.ylim(1e-10, 1e2)\n",
    "    plt.ylabel(\"Density\")\n",
    "    plt.xlabel(\"Eigenvalue\")\n",
    "    plt.legend()"
   ]
  },
  {
   "cell_type": "code",
   "execution_count": 44,
   "id": "92065c41",
   "metadata": {},
   "outputs": [
    {
     "name": "stderr",
     "output_type": "stream",
     "text": [
      "WARNING:matplotlib.legend:No artists with labels found to put in legend.  Note that artists whose label start with an underscore are ignored when legend() is called with no argument.\n"
     ]
    },
    {
     "data": {
      "image/png": "[encoded data removed]",
      "text/plain": [
       "<Figure size 432x288 with 1 Axes>"
      ]
     },
     "metadata": {
      "needs_background": "light"
     },
     "output_type": "display_data"
    }
   ],
   "source": [
    "plot(grids, density) # 30 epochs no BN"
   ]
  },
  {
   "cell_type": "code",
   "execution_count": 45,
   "id": "be8417f0",
   "metadata": {},
   "outputs": [
    {
     "name": "stdout",
     "output_type": "stream",
     "text": [
      "[[-2.19079984e-12  1.01370357e-09  1.52740531e-09  2.27270802e-09\n",
      "   2.39562858e-09  3.24792222e-06  3.33229809e-06  3.49988773e-06\n",
      "   3.62373157e-06  3.71542160e-06  3.81887094e-06  3.92773200e-06\n",
      "   4.13231055e-06  4.24464406e-06  4.41967086e-06  4.68478675e-06\n",
      "   4.89406875e-06  5.14584644e-06  5.43492479e-06  5.69224949e-06\n",
      "   6.03878425e-06  6.24131098e-06  6.64124309e-06  6.98577787e-06\n",
      "   7.27091174e-06  7.59120712e-06  7.87192857e-06  8.24261224e-06\n",
      "   8.72193141e-06  9.02710781e-06  9.39864549e-06  9.88222109e-06\n",
      "   1.02385839e-05  1.06187608e-05  1.09238490e-05  1.14291988e-05\n",
      "   1.19263150e-05  1.21940384e-05  1.25359302e-05  1.28602815e-05\n",
      "   1.33974982e-05  1.36789604e-05  1.41240125e-05  1.44289643e-05\n",
      "   1.49048128e-05  1.51122304e-05  1.54910740e-05  1.58883649e-05\n",
      "   1.63284567e-05  1.65162401e-05  1.68197766e-05  1.73726348e-05\n",
      "   1.76054673e-05  1.77805923e-05  1.83351422e-05  1.89135753e-05\n",
      "   1.95834655e-05  2.00813647e-05  2.09524751e-05  2.13373241e-05\n",
      "   2.21312039e-05  2.29305824e-05  2.35780881e-05  2.43591039e-05\n",
      "   2.55810337e-05  2.63747206e-05  2.65426825e-05  2.72508660e-05\n",
      "   2.87645198e-05  2.95626214e-05  3.17014892e-05  3.30996918e-05\n",
      "   3.51088056e-05  3.59695659e-05  3.73392722e-05  3.86062165e-05\n",
      "   4.23554047e-05  4.31334483e-05  4.38077041e-05  5.04917334e-05\n",
      "   5.62501227e-05  1.74462635e-04  2.47689954e-04  2.65623443e-04\n",
      "   3.26537905e-04  4.08360444e-04  4.92570631e-04  5.35410130e-04\n",
      "   6.41422288e-04  9.04551824e-04]]\n"
     ]
    }
   ],
   "source": [
    "print(eig_vals)"
   ]
  },
  {
   "cell_type": "code",
   "execution_count": null,
   "id": "5e1923c4",
   "metadata": {},
   "outputs": [],
   "source": [
    "np.sum(density)"
   ]
  },
  {
   "cell_type": "code",
   "execution_count": null,
   "id": "e8aa0965",
   "metadata": {},
   "outputs": [],
   "source": [
    "bin_size = grids[1]-grids[0]\n",
    "neg_mask = grids<0.\n",
    "pos_mask = grids>0."
   ]
  },
  {
   "cell_type": "code",
   "execution_count": null,
   "id": "e99bb94a",
   "metadata": {},
   "outputs": [],
   "source": [
    "# L1 energy\n",
    "print(np.sum(bin_size*density[neg_mask]))\n",
    "print(np.sum(bin_size*density[pos_mask]))"
   ]
  },
  {
   "cell_type": "code",
   "execution_count": null,
   "id": "387bf390",
   "metadata": {},
   "outputs": [],
   "source": [
    "# L2 energy\n",
    "print(np.sum(bin_size*density[neg_mask]**2))\n",
    "print(np.sum(bin_size*density[pos_mask]**2))"
   ]
  },
  {
   "cell_type": "code",
   "execution_count": null,
   "id": "71fc5421",
   "metadata": {},
   "outputs": [],
   "source": [
    "# eigenvalue ratio\n",
    "k = 10\n",
    "eig_vals_s = eig_vals.reshape(-1)[::-1] # largest to smallest\n",
    "print(eig_vals_s[0]/eig_vals_s[k-1])"
   ]
  },
  {
   "cell_type": "code",
   "execution_count": null,
   "id": "9bd216d0",
   "metadata": {},
   "outputs": [],
   "source": [
    "# compute covariance of Jacobian\n",
    "cov = jnp.zeros_like(jax.flatten_util.ravel_pytree(state.params)[0].reshape(-1,1))\n",
    "for batch in batches_list:\n",
    "    def loss_fn(params):\n",
    "        logits = mlp.apply({'params': params}, batch[0])\n",
    "        loss = cross_entropy_loss(logits=logits, labels=batch[1])\n",
    "        return loss, logits\n",
    "    grad_fn = jax.value_and_grad(loss_fn, has_aux=True)\n",
    "    (_, logits), grads = grad_fn(state.params)\n",
    "    grads = jax.flatten_util.ravel_pytree(grads)[0].reshape(-1,1)\n",
    "    cov = cov + grads @ grads.T\n",
    "cov = cov / len(batches_list)\n",
    "print(cov.shape)"
   ]
  },
  {
   "cell_type": "code",
   "execution_count": 41,
   "id": "8bac051c",
   "metadata": {},
   "outputs": [
    {
     "data": {
      "text/plain": [
       "DeviceArray([-0.00123936,  0.6014926 ,  0.08975819,  0.2594161 ,\n",
       "              0.9079218 ], dtype=float32)"
      ]
     },
     "execution_count": 41,
     "metadata": {},
     "output_type": "execute_result"
    }
   ],
   "source": [
    "def lin_solve_sum(b_param):\n",
    "    A = jnp.array(np.random.rand(5,5))\n",
    "    x = jnp.linalg.solve(A,b_param)\n",
    "    return jnp.sum(x)\n",
    "lin_solve_sum_grad = jax.grad(lin_solve_sum)\n",
    "b = jnp.array(np.random.rand(5))\n",
    "lin_solve_sum_grad(b)"
   ]
  },
  {
   "cell_type": "code",
   "execution_count": null,
   "id": "dbebf305",
   "metadata": {},
   "outputs": [],
   "source": []
  }
 ],
 "metadata": {
  "kernelspec": {
   "display_name": "Python 3 (ipykernel)",
   "language": "python",
   "name": "python3"
  },
  "language_info": {
   "codemirror_mode": {
    "name": "ipython",
    "version": 3
   },
   "file_extension": ".py",
   "mimetype": "text/x-python",
   "name": "python",
   "nbconvert_exporter": "python",
   "pygments_lexer": "ipython3",
   "version": "3.8.12"
  }
 },
 "nbformat": 4,
 "nbformat_minor": 5
}
