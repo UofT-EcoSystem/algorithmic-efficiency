{
 "cells": [
  {
   "cell_type": "code",
   "execution_count": 1,
   "id": "27d0fbaf",
   "metadata": {},
   "outputs": [
    {
     "name": "stderr",
     "output_type": "stream",
     "text": [
      "2022-03-25 12:13:24.871265: W tensorflow/stream_executor/platform/default/dso_loader.cc:64] Could not load dynamic library 'libcudart.so.11.0'; dlerror: libcudart.so.11.0: cannot open shared object file: No such file or directory\n",
      "/home/adamo/miniconda3/envs/2541/lib/python3.8/site-packages/tqdm/auto.py:22: TqdmWarning: IProgress not found. Please update jupyter and ipywidgets. See https://ipywidgets.readthedocs.io/en/stable/user_install.html\n",
      "  from .autonotebook import tqdm as notebook_tqdm\n"
     ]
    }
   ],
   "source": [
    "import jax\n",
    "import jax.numpy as jnp\n",
    "from flax import linen as nn\n",
    "from flax.training import train_state\n",
    "import numpy as np\n",
    "import optax\n",
    "import tensorflow_datasets as tfds\n",
    "from typing import Any, Callable, Sequence, Optional"
   ]
  },
  {
   "cell_type": "code",
   "execution_count": 2,
   "id": "d0230fc3",
   "metadata": {},
   "outputs": [],
   "source": [
    "class MLP(nn.Module):\n",
    "    features: Sequence[int]\n",
    "#     features = (1000,1000,10)\n",
    "    \n",
    "    def setup(self):\n",
    "        dense_layers, activations = [], []\n",
    "        for layer_idx, feats in enumerate(self.features):\n",
    "            dense_layers.append(nn.Dense(feats))\n",
    "            activations.append(nn.relu)\n",
    "        activations[-1] = nn.log_softmax\n",
    "        self.dense_layers = dense_layers\n",
    "        self.activations = activations\n",
    "    \n",
    "    def __call__(self,x):\n",
    "        for layer_idx, layer in enumerate(self.dense_layers):\n",
    "            x = layer(x)\n",
    "            x = self.activations[layer_idx](x)\n",
    "        return x\n",
    "mlp = MLP(features=(1024,1024,10))"
   ]
  },
  {
   "cell_type": "code",
   "execution_count": 3,
   "id": "742a7302",
   "metadata": {},
   "outputs": [],
   "source": [
    "def cross_entropy_loss(*, logits, labels):\n",
    "  one_hot_labels = jax.nn.one_hot(labels, num_classes=10)\n",
    "  return -jnp.mean(jnp.sum(one_hot_labels * logits, axis=-1))"
   ]
  },
  {
   "cell_type": "code",
   "execution_count": 4,
   "id": "4c945b39",
   "metadata": {},
   "outputs": [],
   "source": [
    "def compute_metrics(*, logits, labels):\n",
    "  loss = cross_entropy_loss(logits=logits, labels=labels)\n",
    "  accuracy = jnp.mean(jnp.argmax(logits, -1) == labels)\n",
    "  metrics = {\n",
    "      'loss': loss,\n",
    "      'accuracy': accuracy,\n",
    "  }\n",
    "  return metrics"
   ]
  },
  {
   "cell_type": "code",
   "execution_count": 5,
   "id": "bc14a992",
   "metadata": {},
   "outputs": [],
   "source": [
    "def get_datasets():\n",
    "  \"\"\"Load MNIST train and test datasets into memory.\"\"\"\n",
    "  ds_builder = tfds.builder('mnist')\n",
    "  ds_builder.download_and_prepare()\n",
    "  train_ds = tfds.as_numpy(ds_builder.as_dataset(split='train', batch_size=-1))\n",
    "  test_ds = tfds.as_numpy(ds_builder.as_dataset(split='test', batch_size=-1))\n",
    "  train_ds['image'] = jnp.float32(train_ds['image']) / 255.\n",
    "  test_ds['image'] = jnp.float32(test_ds['image']) / 255.\n",
    "  return train_ds, test_ds"
   ]
  },
  {
   "cell_type": "code",
   "execution_count": 6,
   "id": "04c7be6d",
   "metadata": {},
   "outputs": [],
   "source": [
    "def create_train_state(rng, learning_rate, momentum):\n",
    "  \"\"\"Creates initial `TrainState`.\"\"\"\n",
    "  params = mlp.init(rng, jnp.ones([1, 28*28*1]))['params']\n",
    "  tx = optax.sgd(learning_rate, momentum)\n",
    "  return train_state.TrainState.create(\n",
    "      apply_fn=mlp.apply, params=params, tx=tx)"
   ]
  },
  {
   "cell_type": "code",
   "execution_count": 7,
   "id": "c3ab9a47",
   "metadata": {},
   "outputs": [],
   "source": [
    "@jax.jit\n",
    "def train_step(state, batch):\n",
    "  \"\"\"Train for a single step.\"\"\"\n",
    "  def loss_fn(params):\n",
    "    logits = mlp.apply({'params': params}, batch['image'])\n",
    "    loss = cross_entropy_loss(logits=logits, labels=batch['label'])\n",
    "    return loss, logits\n",
    "  grad_fn = jax.value_and_grad(loss_fn, has_aux=True)\n",
    "  (_, logits), grads = grad_fn(state.params)\n",
    "  state = state.apply_gradients(grads=grads)\n",
    "  metrics = compute_metrics(logits=logits, labels=batch['label'])\n",
    "  return state, metrics"
   ]
  },
  {
   "cell_type": "code",
   "execution_count": 8,
   "id": "2ef2a512",
   "metadata": {},
   "outputs": [],
   "source": [
    "@jax.jit\n",
    "def eval_step(params, batch):\n",
    "  logits = mlp.apply({'params': params}, batch['image'])\n",
    "  return compute_metrics(logits=logits, labels=batch['label'])"
   ]
  },
  {
   "cell_type": "code",
   "execution_count": 9,
   "id": "3679e55d",
   "metadata": {},
   "outputs": [],
   "source": [
    "def train_epoch(state, train_ds, batch_size, epoch, rng):\n",
    "  \"\"\"Train for a single epoch.\"\"\"\n",
    "  train_ds_size = len(train_ds['image'])\n",
    "  steps_per_epoch = train_ds_size // batch_size\n",
    "\n",
    "  perms = jax.random.permutation(rng, train_ds_size)\n",
    "  perms = perms[:steps_per_epoch * batch_size]  # skip incomplete batch\n",
    "  perms = perms.reshape((steps_per_epoch, batch_size))\n",
    "  batch_metrics = []\n",
    "  for perm in perms:\n",
    "    batch = {k: v[perm, ...] for k, v in train_ds.items()}\n",
    "    state, metrics = train_step(state, batch)\n",
    "    batch_metrics.append(metrics)\n",
    "\n",
    "  # compute mean of metrics across each batch in epoch.\n",
    "  batch_metrics_np = jax.device_get(batch_metrics)\n",
    "  epoch_metrics_np = {\n",
    "      k: np.mean([metrics[k] for metrics in batch_metrics_np])\n",
    "      for k in batch_metrics_np[0]}\n",
    "\n",
    "  print('train epoch: %d, loss: %.4f, accuracy: %.2f' % (\n",
    "      epoch, epoch_metrics_np['loss'], epoch_metrics_np['accuracy'] * 100))\n",
    "\n",
    "  return state"
   ]
  },
  {
   "cell_type": "code",
   "execution_count": 10,
   "id": "80f85602",
   "metadata": {},
   "outputs": [],
   "source": [
    "def eval_model(params, test_ds):\n",
    "  metrics = eval_step(params, test_ds)\n",
    "  metrics = jax.device_get(metrics)\n",
    "  summary = jax.tree_map(lambda x: x.item(), metrics)\n",
    "  return summary['loss'], summary['accuracy']"
   ]
  },
  {
   "cell_type": "code",
   "execution_count": 11,
   "id": "42fd3f04",
   "metadata": {},
   "outputs": [
    {
     "name": "stderr",
     "output_type": "stream",
     "text": [
      "2022-03-25 12:13:26.895952: W tensorflow/stream_executor/platform/default/dso_loader.cc:64] Could not load dynamic library 'libcudart.so.11.0'; dlerror: libcudart.so.11.0: cannot open shared object file: No such file or directory\n",
      "2022-03-25 12:13:26.896089: W tensorflow/stream_executor/platform/default/dso_loader.cc:64] Could not load dynamic library 'libcublas.so.11'; dlerror: libcublas.so.11: cannot open shared object file: No such file or directory\n",
      "2022-03-25 12:13:26.896285: W tensorflow/stream_executor/platform/default/dso_loader.cc:64] Could not load dynamic library 'libcublasLt.so.11'; dlerror: libcublasLt.so.11: cannot open shared object file: No such file or directory\n",
      "2022-03-25 12:13:26.896492: W tensorflow/stream_executor/platform/default/dso_loader.cc:64] Could not load dynamic library 'libcufft.so.10'; dlerror: libcufft.so.10: cannot open shared object file: No such file or directory\n",
      "2022-03-25 12:13:26.896689: W tensorflow/stream_executor/platform/default/dso_loader.cc:64] Could not load dynamic library 'libcurand.so.10'; dlerror: libcurand.so.10: cannot open shared object file: No such file or directory\n",
      "2022-03-25 12:13:26.896792: W tensorflow/stream_executor/platform/default/dso_loader.cc:64] Could not load dynamic library 'libcusolver.so.11'; dlerror: libcusolver.so.11: cannot open shared object file: No such file or directory\n",
      "2022-03-25 12:13:26.896889: W tensorflow/stream_executor/platform/default/dso_loader.cc:64] Could not load dynamic library 'libcusparse.so.11'; dlerror: libcusparse.so.11: cannot open shared object file: No such file or directory\n",
      "2022-03-25 12:13:26.896986: W tensorflow/stream_executor/platform/default/dso_loader.cc:64] Could not load dynamic library 'libcudnn.so.8'; dlerror: libcudnn.so.8: cannot open shared object file: No such file or directory\n",
      "2022-03-25 12:13:26.897000: W tensorflow/core/common_runtime/gpu/gpu_device.cc:1850] Cannot dlopen some GPU libraries. Please make sure the missing libraries mentioned above are installed properly if you would like to use GPU. Follow the guide at https://www.tensorflow.org/install/gpu for how to download and setup the required libraries for your platform.\n",
      "Skipping registering GPU devices...\n",
      "WARNING:absl:No GPU/TPU found, falling back to CPU. (Set TF_CPP_MIN_LOG_LEVEL=0 and rerun for more info.)\n"
     ]
    }
   ],
   "source": [
    "train_ds, test_ds = get_datasets()\n",
    "train_ds[\"image\"] = train_ds[\"image\"].reshape(-1,28*28*1)\n",
    "test_ds[\"image\"] = test_ds[\"image\"].reshape(-1,28*28*1)"
   ]
  },
  {
   "cell_type": "code",
   "execution_count": 12,
   "id": "8b508757",
   "metadata": {},
   "outputs": [],
   "source": [
    "rng = jax.random.PRNGKey(0)\n",
    "rng, init_rng = jax.random.split(rng)"
   ]
  },
  {
   "cell_type": "code",
   "execution_count": 13,
   "id": "807b25ec",
   "metadata": {},
   "outputs": [],
   "source": [
    "learning_rate = 0.001\n",
    "momentum = 0.9"
   ]
  },
  {
   "cell_type": "code",
   "execution_count": 14,
   "id": "7434da94",
   "metadata": {},
   "outputs": [],
   "source": [
    "state = create_train_state(init_rng, learning_rate, momentum)\n",
    "del init_rng  # Must not be used anymore."
   ]
  },
  {
   "cell_type": "code",
   "execution_count": 15,
   "id": "d3f31f9f",
   "metadata": {},
   "outputs": [],
   "source": [
    "num_epochs = 3\n",
    "batch_size = 128"
   ]
  },
  {
   "cell_type": "code",
   "execution_count": 16,
   "id": "8398a182",
   "metadata": {},
   "outputs": [
    {
     "name": "stdout",
     "output_type": "stream",
     "text": [
      "train epoch: 1, loss: 1.2328, accuracy: 73.69\n",
      " test epoch: 1, loss: 0.58, accuracy: 86.45\n",
      "train epoch: 2, loss: 0.4800, accuracy: 87.74\n",
      " test epoch: 2, loss: 0.39, accuracy: 89.69\n",
      "train epoch: 3, loss: 0.3717, accuracy: 89.80\n",
      " test epoch: 3, loss: 0.33, accuracy: 90.96\n"
     ]
    }
   ],
   "source": [
    "for epoch in range(1, num_epochs + 1):\n",
    "  # Use a separate PRNG key to permute image data during shuffling\n",
    "  rng, input_rng = jax.random.split(rng)\n",
    "  # Run an optimization step over a training batch\n",
    "  state = train_epoch(state, train_ds, batch_size, epoch, input_rng)\n",
    "  # Evaluate on the test set after each training epoch\n",
    "  test_loss, test_accuracy = eval_model(state.params, test_ds)\n",
    "  print(' test epoch: %d, loss: %.2f, accuracy: %.2f' % (\n",
    "      epoch, test_loss, test_accuracy * 100))"
   ]
  },
  {
   "cell_type": "markdown",
   "id": "bb16f478",
   "metadata": {},
   "source": [
    "# Spectrum Computation"
   ]
  },
  {
   "cell_type": "code",
   "execution_count": 17,
   "id": "dd3e84f8",
   "metadata": {},
   "outputs": [],
   "source": [
    "import matplotlib.pyplot as plt\n",
    "import time\n",
    "import density as density_lib\n",
    "import lanczos as lanczos\n",
    "import hessian_computation as hessian_computation"
   ]
  },
  {
   "cell_type": "code",
   "execution_count": 18,
   "id": "812d662c",
   "metadata": {},
   "outputs": [],
   "source": [
    "# make a generator that yields 1/10th and epoch\n",
    "num_batches = train_ds[\"image\"].shape[0] // batch_size\n",
    "if train_ds[\"image\"].shape[0] % batch_size != 0:\n",
    "    num_batches += 1\n",
    "\n",
    "batches_list = []\n",
    "for i in range(num_batches // 10):\n",
    "    low = i*batch_size\n",
    "    high = (i+1)*batch_size\n",
    "    batches_list.append((train_ds[\"image\"][low:high],train_ds[\"label\"][low:high]))\n",
    "\n",
    "def batches_fn():\n",
    "    for b in batches_list:\n",
    "        yield b\n",
    "        \n",
    "# print(batch_size,num_batches)\n",
    "# print(len(batches_list))\n",
    "# print([(b[0].shape,b[1].shape) for b in batches_list])"
   ]
  },
  {
   "cell_type": "code",
   "execution_count": 19,
   "id": "0b91f6dc",
   "metadata": {},
   "outputs": [],
   "source": [
    "def spec_predict(params,inputs):\n",
    "    return mlp.apply({'params': params},inputs)\n",
    "\n",
    "def spec_loss(params, batch):\n",
    "    inputs, targets = batch\n",
    "    preds = spec_predict(params, inputs)\n",
    "    return cross_entropy_loss(logits=preds, labels=targets)    "
   ]
  },
  {
   "cell_type": "code",
   "execution_count": 20,
   "id": "fdd73b23",
   "metadata": {},
   "outputs": [],
   "source": [
    "# Hessian-vector product function + Lanczos \n",
    "order = 90\n",
    "hvp, unravel, num_params = hessian_computation.get_hvp_fn(spec_loss, state.params, batches_fn)\n",
    "hvp_cl = lambda v: hvp(state.params, v) / len(batches_list) # Match the API required by lanczos_alg"
   ]
  },
  {
   "cell_type": "code",
   "execution_count": 21,
   "id": "9788aa50",
   "metadata": {},
   "outputs": [
    {
     "name": "stdout",
     "output_type": "stream",
     "text": [
      "num_params: 1863690\n",
      "hvp compile time: 1.1577792167663574\n",
      "hvp compute time: 0.6307306289672852\n"
     ]
    }
   ],
   "source": [
    "print(\"num_params: {}\".format(num_params))\n",
    "start = time.time()\n",
    "hvp_cl(np.ones(num_params)) # first call of a jitted function compiles it\n",
    "end = time.time()\n",
    "print(\"hvp compile time: {}\".format(end-start))\n",
    "start = time.time()\n",
    "hvp_cl(2*np.ones(num_params)) # second+ call will be much faster\n",
    "end = time.time()\n",
    "print(\"hvp compute time: {}\".format(end-start))"
   ]
  },
  {
   "cell_type": "code",
   "execution_count": 22,
   "id": "97c44fd7",
   "metadata": {},
   "outputs": [
    {
     "name": "stdout",
     "output_type": "stream",
     "text": [
      "Lanczos time: 113.83119511604309\n"
     ]
    }
   ],
   "source": [
    "rng, split = jax.random.split(rng)\n",
    "start = time.time()\n",
    "tridiag, vecs = lanczos.lanczos_alg(hvp_cl, num_params, order, split)\n",
    "end = time.time()\n",
    "print(\"Lanczos time: {}\".format(end-start)) # this should be ~order * hvp compute time\n",
    "density, grids = density_lib.tridiag_to_density([tridiag], grid_len=10000, sigma_squared=1e-5)"
   ]
  },
  {
   "cell_type": "code",
   "execution_count": 23,
   "id": "007db0f4",
   "metadata": {},
   "outputs": [],
   "source": [
    "eig_vals, all_weights = density_lib.tridiag_to_eigv([tridiag])"
   ]
  },
  {
   "cell_type": "code",
   "execution_count": 24,
   "id": "48a09dbb",
   "metadata": {},
   "outputs": [],
   "source": [
    "def plot(grids, density, label=None):\n",
    "    plt.semilogy(grids, density, label=label)\n",
    "    plt.ylim(1e-10, 1e2)\n",
    "    plt.ylabel(\"Density\")\n",
    "    plt.xlabel(\"Eigenvalue\")\n",
    "    plt.legend()"
   ]
  },
  {
   "cell_type": "code",
   "execution_count": 25,
   "id": "047d1330",
   "metadata": {},
   "outputs": [
    {
     "name": "stderr",
     "output_type": "stream",
     "text": [
      "WARNING:matplotlib.legend:No artists with labels found to put in legend.  Note that artists whose label start with an underscore are ignored when legend() is called with no argument.\n"
     ]
    },
    {
     "data": {
      "image/png": "[encoded data removed]",
      "text/plain": [
       "<Figure size 432x288 with 1 Axes>"
      ]
     },
     "metadata": {
      "needs_background": "light"
     },
     "output_type": "display_data"
    }
   ],
   "source": [
    "plot(grids, density) # 30 epochs no BN"
   ]
  },
  {
   "cell_type": "code",
   "execution_count": null,
   "id": "f026ad9e",
   "metadata": {},
   "outputs": [],
   "source": []
  },
  {
   "cell_type": "code",
   "execution_count": null,
   "id": "a61bf487",
   "metadata": {},
   "outputs": [],
   "source": []
  },
  {
   "cell_type": "code",
   "execution_count": 26,
   "id": "b299b014",
   "metadata": {},
   "outputs": [],
   "source": [
    "# def silly_func(params,x):\n",
    "#     return params.dot(x)\n",
    "\n",
    "# def jjvp(loss, params, batch, v):\n",
    "#     # note: jax jacobian defaults to 1xn\n",
    "#     loss_fn = lambda _params: loss(_params, batch)\n",
    "#     _jvp = jax.jvp(loss_fn, [params], [v])[1]\n",
    "#     _jjvp = jax.vjp(loss_fn, params)[1](_jvp)[0]\n",
    "#     return _jjvp\n",
    "\n",
    "# num_params = 5\n",
    "# p = jnp.array(np.random.rand(num_params).astype(np.float32))\n",
    "# x = jnp.array(np.random.rand(num_params).astype(np.float32))\n",
    "# v = jnp.array(np.random.rand(num_params).astype(np.float32))\n",
    "\n",
    "# # manual way\n",
    "# jac = jax.jacfwd(silly_func)(p,x).reshape(-1,1)\n",
    "# jjvp_1 = (jac @ jac.T @ v.reshape(-1,1)).reshape(-1)\n",
    "# print(jjvp_1)\n",
    "\n",
    "# # efficient way\n",
    "# jjvp_2 = jjvp(silly_func,p,x,v)\n",
    "# print(jjvp_2)\n"
   ]
  },
  {
   "cell_type": "code",
   "execution_count": 30,
   "id": "9e25ec8d",
   "metadata": {},
   "outputs": [],
   "source": [
    "from jax.flatten_util import ravel_pytree\n",
    "from hessian_computation import _tree_sum, _tree_zeros_like\n",
    "from jax import jit\n",
    "\n",
    "def jjvp(loss, params, batch, v):\n",
    "    # note: jax jacobian defaults to 1xn\n",
    "    loss_fn = lambda _params: loss(_params, batch)\n",
    "    _jvp = jax.jvp(loss_fn, [params], [v])[1]\n",
    "    _jjvp = jax.vjp(loss_fn, params)[1](_jvp)[0]\n",
    "    return _jjvp\n",
    "\n",
    "def get_jjvp_fn(loss, params, batches):\n",
    "\n",
    "    flat_params, unravel = ravel_pytree(params)\n",
    "\n",
    "    @jit\n",
    "    def jitted_jjvp(params, batch, v):\n",
    "        return jjvp(loss, params, batch, v)\n",
    "\n",
    "    def jjvp_fn(params, v):\n",
    "        \"\"\"Maps a vector v to Hv, where H is the hessian.\n",
    "\n",
    "        Args:\n",
    "          params: pytree of model parameters.\n",
    "          v: array of size [num_params]\n",
    "        Returns:\n",
    "          hessian_vp_flat: array of size [num_params] equal to Hv.\n",
    "        \"\"\"\n",
    "\n",
    "        # The API of the function maps a 1d vector to a 1d vector. However for\n",
    "        # efficiency we will perform all operations on the pytree representation\n",
    "        # of params.\n",
    "        v = unravel(v)  # convert v to the param tree structure\n",
    "        jj_vp = _tree_zeros_like(params)\n",
    "        # TODO(gilmer): Get rid of this for loop by using either vmap or lax.fori.\n",
    "        count = 0\n",
    "        for batch in batches():\n",
    "            partial_vp = jitted_jjvp(params, batch, v)\n",
    "            jj_vp = _tree_sum(jj_vp, partial_vp)\n",
    "            count += 1\n",
    "        if count == 0:\n",
    "            raise ValueError(\"Provided generator did not yield any data.\")\n",
    "        jj_vp_flat, _ = ravel_pytree(jj_vp)\n",
    "        jj_vp_flat /= count\n",
    "        return jj_vp_flat\n",
    "\n",
    "    return jjvp_fn, unravel, flat_params.shape[0]"
   ]
  },
  {
   "cell_type": "code",
   "execution_count": 31,
   "id": "4c0dae6c",
   "metadata": {},
   "outputs": [],
   "source": [
    "order = 90\n",
    "jjvp_, unravel, num_params = get_jjvp_fn(spec_loss, state.params, batches_fn)\n",
    "jjvp_cl = lambda v: jjvp_(state.params, v) / len(batches_list) # Match the API required by lanczos_alg"
   ]
  },
  {
   "cell_type": "code",
   "execution_count": 32,
   "id": "398cb315",
   "metadata": {},
   "outputs": [
    {
     "name": "stdout",
     "output_type": "stream",
     "text": [
      "num_params: 1863690\n",
      "hvp compile time: 0.8326873779296875\n",
      "hvp compute time: 0.3820195198059082\n"
     ]
    }
   ],
   "source": [
    "print(\"num_params: {}\".format(num_params))\n",
    "start = time.time()\n",
    "jjvp_cl(np.ones(num_params)) # first call of a jitted function compiles it\n",
    "end = time.time()\n",
    "print(\"hvp compile time: {}\".format(end-start))\n",
    "start = time.time()\n",
    "jjvp_cl(2*np.ones(num_params)) # second+ call will be much faster\n",
    "end = time.time()\n",
    "print(\"hvp compute time: {}\".format(end-start))"
   ]
  },
  {
   "cell_type": "code",
   "execution_count": 33,
   "id": "39b0eca9",
   "metadata": {},
   "outputs": [
    {
     "name": "stdout",
     "output_type": "stream",
     "text": [
      "Lanczos time: 95.5627281665802\n"
     ]
    }
   ],
   "source": [
    "rng, split = jax.random.split(rng)\n",
    "start = time.time()\n",
    "tridiag, vecs = lanczos.lanczos_alg(jjvp_cl, num_params, order, split)\n",
    "end = time.time()\n",
    "print(\"Lanczos time: {}\".format(end-start)) # this should be ~order * hvp compute time\n",
    "density, grids = density_lib.tridiag_to_density([tridiag], grid_len=10000, sigma_squared=1e-5)"
   ]
  },
  {
   "cell_type": "code",
   "execution_count": 34,
   "id": "f15e6862",
   "metadata": {},
   "outputs": [],
   "source": [
    "eig_vals, all_weights = density_lib.tridiag_to_eigv([tridiag])"
   ]
  },
  {
   "cell_type": "code",
   "execution_count": 35,
   "id": "f0d48966",
   "metadata": {},
   "outputs": [],
   "source": [
    "def plot(grids, density, label=None):\n",
    "    plt.semilogy(grids, density, label=label)\n",
    "    plt.ylim(1e-10, 1e2)\n",
    "    plt.ylabel(\"Density\")\n",
    "    plt.xlabel(\"Eigenvalue\")\n",
    "    plt.legend()"
   ]
  },
  {
   "cell_type": "code",
   "execution_count": 36,
   "id": "f9677e84",
   "metadata": {},
   "outputs": [
    {
     "name": "stderr",
     "output_type": "stream",
     "text": [
      "WARNING:matplotlib.legend:No artists with labels found to put in legend.  Note that artists whose label start with an underscore are ignored when legend() is called with no argument.\n"
     ]
    },
    {
     "data": {
      "image/png": "[encoded data removed]",
      "text/plain": [
       "<Figure size 432x288 with 1 Axes>"
      ]
     },
     "metadata": {
      "needs_background": "light"
     },
     "output_type": "display_data"
    }
   ],
   "source": [
    "plot(grids, density) # 30 epochs no BN"
   ]
  },
  {
   "cell_type": "code",
   "execution_count": null,
   "id": "de020c20",
   "metadata": {},
   "outputs": [],
   "source": [
    "np.sum(density)"
   ]
  },
  {
   "cell_type": "code",
   "execution_count": null,
   "id": "dca325cc",
   "metadata": {},
   "outputs": [],
   "source": [
    "bin_size = grids[1]-grids[0]\n",
    "neg_mask = grids<0.\n",
    "pos_mask = grids>0."
   ]
  },
  {
   "cell_type": "code",
   "execution_count": null,
   "id": "a169149b",
   "metadata": {},
   "outputs": [],
   "source": [
    "# L1 energy\n",
    "print(np.sum(bin_size*density[neg_mask]))\n",
    "print(np.sum(bin_size*density[pos_mask]))"
   ]
  },
  {
   "cell_type": "code",
   "execution_count": null,
   "id": "454357da",
   "metadata": {},
   "outputs": [],
   "source": [
    "# L2 energy\n",
    "print(np.sum(bin_size*density[neg_mask]**2))\n",
    "print(np.sum(bin_size*density[pos_mask]**2))"
   ]
  },
  {
   "cell_type": "code",
   "execution_count": null,
   "id": "ef4d6c3b",
   "metadata": {},
   "outputs": [],
   "source": [
    "# eigenvalue ratio\n",
    "k = 10\n",
    "eig_vals_s = eig_vals.reshape(-1)[::-1] # largest to smallest\n",
    "print(eig_vals_s[0]/eig_vals_s[k-1])"
   ]
  },
  {
   "cell_type": "code",
   "execution_count": null,
   "id": "348bc4bb",
   "metadata": {},
   "outputs": [],
   "source": [
    "# compute covariance of Jacobian\n",
    "cov = jnp.zeros_like(jax.flatten_util.ravel_pytree(state.params)[0].reshape(-1,1))\n",
    "for batch in batches_list:\n",
    "    def loss_fn(params):\n",
    "        logits = mlp.apply({'params': params}, batch[0])\n",
    "        loss = cross_entropy_loss(logits=logits, labels=batch[1])\n",
    "        return loss, logits\n",
    "    grad_fn = jax.value_and_grad(loss_fn, has_aux=True)\n",
    "    (_, logits), grads = grad_fn(state.params)\n",
    "    grads = jax.flatten_util.ravel_pytree(grads)[0].reshape(-1,1)\n",
    "    cov = cov + grads @ grads.T\n",
    "cov = cov / len(batches_list)\n",
    "print(cov.shape)"
   ]
  },
  {
   "cell_type": "code",
   "execution_count": null,
   "id": "ba364a96",
   "metadata": {},
   "outputs": [],
   "source": []
  }
 ],
 "metadata": {
  "kernelspec": {
   "display_name": "Python 3 (ipykernel)",
   "language": "python",
   "name": "python3"
  },
  "language_info": {
   "codemirror_mode": {
    "name": "ipython",
    "version": 3
   },
   "file_extension": ".py",
   "mimetype": "text/x-python",
   "name": "python",
   "nbconvert_exporter": "python",
   "pygments_lexer": "ipython3",
   "version": "3.8.12"
  }
 },
 "nbformat": 4,
 "nbformat_minor": 5
}
