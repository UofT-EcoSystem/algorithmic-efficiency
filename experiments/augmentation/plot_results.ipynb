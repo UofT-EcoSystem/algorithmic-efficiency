{
 "cells": [
  {
   "cell_type": "code",
   "execution_count": 1,
   "metadata": {},
   "outputs": [],
   "source": [
    "import matplotlib.pyplot as plt\n",
    "import numpy as np\n",
    "import pandas as pd"
   ]
  },
  {
   "cell_type": "code",
   "execution_count": 2,
   "metadata": {},
   "outputs": [
    {
     "name": "stdout",
     "output_type": "stream",
     "text": [
      "Index(['workload', 'trial_idx', 'datetime', 'accumulated_submission_time',\n",
      "       'accuracy', 'loss', 'global_step', 'epoch', 'steps_per_epoch',\n",
      "       'global_start_time', 'goal_reached', 'is_time_remaining',\n",
      "       'training_complete', 'batch_size', 'hparam.learning_rate',\n",
      "       'hparam.momentum', 'workload.eval_period_time_sec',\n",
      "       'workload.max_allowed_runtime_sec', 'workload.num_eval_train_examples',\n",
      "       'workload.num_train_examples', 'workload.num_validation_examples',\n",
      "       'workload.target_value', 'extra.cifar10.target_value',\n",
      "       'cpu.util.avg_percent_since_last', 'cpu.freq.current', 'mem.total',\n",
      "       'mem.available', 'mem.used', 'mem.percent_used',\n",
      "       'mem.read_bytes_since_boot', 'mem.write_bytes_since_boot',\n",
      "       'net.bytes_sent_since_boot', 'net.bytes_recv_since_boot', 'gpu.count',\n",
      "       'gpu.0.compute.util', 'gpu.0.mem.util', 'gpu.0.mem.total',\n",
      "       'gpu.0.mem.used', 'gpu.0.mem.free', 'gpu.0.temp.current',\n",
      "       'gpu.avg.compute.util', 'gpu.avg.mem.util', 'gpu.avg.mem.total',\n",
      "       'gpu.avg.mem.used', 'gpu.avg.mem.free', 'gpu.avg.temp.current'],\n",
      "      dtype='object')\n"
     ]
    }
   ],
   "source": [
    "df = pd.read_csv('saved/cifar10_baseline/cifar10_jax/trial_2/measurements.csv')\n",
    "print(df.keys())"
   ]
  },
  {
   "cell_type": "code",
   "execution_count": 3,
   "metadata": {},
   "outputs": [
    {
     "data": {
      "text/plain": [
       "[<matplotlib.lines.Line2D at 0x7fb204becc70>]"
      ]
     },
     "execution_count": 3,
     "metadata": {},
     "output_type": "execute_result"
    },
    {
     "data": {
      "image/png": "[encoded data removed]",
      "text/plain": [
       "<Figure size 432x288 with 1 Axes>"
      ]
     },
     "metadata": {
      "needs_background": "light"
     },
     "output_type": "display_data"
    }
   ],
   "source": [
    "plt.plot(df['epoch'], df['accuracy'])"
   ]
  },
  {
   "cell_type": "code",
   "execution_count": 4,
   "metadata": {},
   "outputs": [],
   "source": [
    "df_base = pd.read_csv('saved/cifar10_baseline/all_measurements.csv')\n",
    "df_aug = pd.read_csv('saved/cifar10_aug_offline/all_measurements.csv')"
   ]
  },
  {
   "cell_type": "code",
   "execution_count": 5,
   "metadata": {},
   "outputs": [],
   "source": [
    "aug_best = pd.DataFrame()\n",
    "base_best = pd.DataFrame()\n",
    "for i in range(1, 6):\n",
    "  best = df_base.loc[df_base['trial_idx'] == i]['loss'].idxmin()\n",
    "  base_best = pd.concat([base_best, df_base.iloc[[best]][['loss', 'accuracy']]])\n",
    "  best = df_aug.loc[df_aug['trial_idx'] == i]['loss'].idxmin()\n",
    "  aug_best = pd.concat([aug_best, df_aug.iloc[[best]][['loss', 'accuracy']]])\n"
   ]
  },
  {
   "cell_type": "code",
   "execution_count": 6,
   "metadata": {},
   "outputs": [
    {
     "name": "stdout",
     "output_type": "stream",
     "text": [
      "        loss  accuracy\n",
      "12  0.845383    0.7100\n",
      "53  0.940508    0.6865\n",
      "97  0.886088    0.6989\n",
      "74  0.905776    0.7000\n",
      "32  0.836165    0.7100\n",
      "        loss  accuracy\n",
      "15  1.009705    0.6679\n",
      "55  0.906554    0.6895\n",
      "94  0.943804    0.6778\n",
      "74  0.963732    0.6706\n",
      "35  0.921300    0.6907\n",
      "0.8827840089797974\n",
      "0.038584484155920376\n",
      "0.9490190505981445\n",
      "0.03605020583481438\n",
      "0.70108003616333\n",
      "0.008690554539035443\n",
      "0.679300045967102\n",
      "0.009401065607756361\n"
     ]
    }
   ],
   "source": [
    "print(aug_best)\n",
    "print(base_best)\n",
    "print(np.mean(aug_best['loss']))\n",
    "print(np.std(aug_best['loss']))\n",
    "print(np.mean(base_best['loss']))\n",
    "print(np.std(base_best['loss']))\n",
    "print(np.mean(aug_best['accuracy']))\n",
    "print(np.std(aug_best['accuracy']))\n",
    "print(np.mean(base_best['accuracy']))\n",
    "print(np.std(base_best['accuracy']))\n",
    "\n"
   ]
  }
 ],
 "metadata": {
  "interpreter": {
   "hash": "6addd5b965f4b4011d484b8ab0ee01851fea8fdfc8365219cfad22cd8be59f2c"
  },
  "kernelspec": {
   "display_name": "Python 3.8.8 ('alg-eff')",
   "language": "python",
   "name": "python3"
  },
  "language_info": {
   "codemirror_mode": {
    "name": "ipython",
    "version": 3
   },
   "file_extension": ".py",
   "mimetype": "text/x-python",
   "name": "python",
   "nbconvert_exporter": "python",
   "pygments_lexer": "ipython3",
   "version": "3.8.8"
  },
  "orig_nbformat": 4
 },
 "nbformat": 4,
 "nbformat_minor": 2
}
